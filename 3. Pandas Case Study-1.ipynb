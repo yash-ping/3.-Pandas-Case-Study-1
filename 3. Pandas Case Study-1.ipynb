{
 "cells": [
  {
   "cell_type": "code",
   "execution_count": 1,
   "metadata": {},
   "outputs": [],
   "source": [
    "import numpy as np\n",
    "import pandas as pd\n",
    "from numpy import where as IF\n",
    "import datetime as dt"
   ]
  },
  {
   "cell_type": "raw",
   "metadata": {},
   "source": [
    "1. Import the customer data into python"
   ]
  },
  {
   "cell_type": "code",
   "execution_count": 2,
   "metadata": {},
   "outputs": [
    {
     "data": {
      "text/html": [
       "<div>\n",
       "<style scoped>\n",
       "    .dataframe tbody tr th:only-of-type {\n",
       "        vertical-align: middle;\n",
       "    }\n",
       "\n",
       "    .dataframe tbody tr th {\n",
       "        vertical-align: top;\n",
       "    }\n",
       "\n",
       "    .dataframe thead th {\n",
       "        text-align: right;\n",
       "    }\n",
       "</style>\n",
       "<table border=\"1\" class=\"dataframe\">\n",
       "  <thead>\n",
       "    <tr style=\"text-align: right;\">\n",
       "      <th></th>\n",
       "      <th>Customer_ID</th>\n",
       "      <th>Gender</th>\n",
       "      <th>First_Date</th>\n",
       "      <th>First_region</th>\n",
       "      <th>First_state</th>\n",
       "      <th>First_city</th>\n",
       "      <th>Recent_Date</th>\n",
       "      <th>Last_region</th>\n",
       "      <th>Last_state</th>\n",
       "      <th>Last_city</th>\n",
       "      <th>Customer_Value</th>\n",
       "      <th>Buy_Times</th>\n",
       "      <th>Points_Earned</th>\n",
       "      <th>Points_Redeemed</th>\n",
       "    </tr>\n",
       "  </thead>\n",
       "  <tbody>\n",
       "    <tr>\n",
       "      <th>0</th>\n",
       "      <td>129609144</td>\n",
       "      <td>M</td>\n",
       "      <td>20130130</td>\n",
       "      <td>West</td>\n",
       "      <td>Gujarat</td>\n",
       "      <td>Surat</td>\n",
       "      <td>20130216</td>\n",
       "      <td>West</td>\n",
       "      <td>Gujarat</td>\n",
       "      <td>Surat</td>\n",
       "      <td>2032.0</td>\n",
       "      <td>2</td>\n",
       "      <td>200.0</td>\n",
       "      <td>0.0</td>\n",
       "    </tr>\n",
       "    <tr>\n",
       "      <th>1</th>\n",
       "      <td>129627580</td>\n",
       "      <td>M</td>\n",
       "      <td>20130129</td>\n",
       "      <td>North</td>\n",
       "      <td>Delhi</td>\n",
       "      <td>Delhi</td>\n",
       "      <td>20130129</td>\n",
       "      <td>North</td>\n",
       "      <td>Delhi</td>\n",
       "      <td>Delhi</td>\n",
       "      <td>1709.0</td>\n",
       "      <td>1</td>\n",
       "      <td>100.0</td>\n",
       "      <td>0.0</td>\n",
       "    </tr>\n",
       "    <tr>\n",
       "      <th>2</th>\n",
       "      <td>130363481</td>\n",
       "      <td>M</td>\n",
       "      <td>20130221</td>\n",
       "      <td>West</td>\n",
       "      <td>Gujarat</td>\n",
       "      <td>Surat</td>\n",
       "      <td>20130221</td>\n",
       "      <td>West</td>\n",
       "      <td>Gujarat</td>\n",
       "      <td>Surat</td>\n",
       "      <td>523.0</td>\n",
       "      <td>1</td>\n",
       "      <td>10.0</td>\n",
       "      <td>0.0</td>\n",
       "    </tr>\n",
       "    <tr>\n",
       "      <th>3</th>\n",
       "      <td>49817480</td>\n",
       "      <td>M</td>\n",
       "      <td>20130222</td>\n",
       "      <td>West</td>\n",
       "      <td>Maharashtra</td>\n",
       "      <td>Pimpri-Chinchwad</td>\n",
       "      <td>20130222</td>\n",
       "      <td>West</td>\n",
       "      <td>Maharashtra</td>\n",
       "      <td>Pimpri-Chinchwad</td>\n",
       "      <td>5132.0</td>\n",
       "      <td>1</td>\n",
       "      <td>170.0</td>\n",
       "      <td>0.0</td>\n",
       "    </tr>\n",
       "    <tr>\n",
       "      <th>4</th>\n",
       "      <td>126343829</td>\n",
       "      <td>F</td>\n",
       "      <td>20130301</td>\n",
       "      <td>North</td>\n",
       "      <td>Delhi</td>\n",
       "      <td>Delhi</td>\n",
       "      <td>20130301</td>\n",
       "      <td>North</td>\n",
       "      <td>Delhi</td>\n",
       "      <td>Delhi</td>\n",
       "      <td>1008.0</td>\n",
       "      <td>1</td>\n",
       "      <td>60.0</td>\n",
       "      <td>0.0</td>\n",
       "    </tr>\n",
       "  </tbody>\n",
       "</table>\n",
       "</div>"
      ],
      "text/plain": [
       "   Customer_ID Gender  First_Date First_region  First_state        First_city  \\\n",
       "0    129609144      M    20130130         West      Gujarat             Surat   \n",
       "1    129627580      M    20130129        North        Delhi             Delhi   \n",
       "2    130363481      M    20130221         West      Gujarat             Surat   \n",
       "3     49817480      M    20130222         West  Maharashtra  Pimpri-Chinchwad   \n",
       "4    126343829      F    20130301        North        Delhi             Delhi   \n",
       "\n",
       "   Recent_Date Last_region   Last_state         Last_city  Customer_Value  \\\n",
       "0     20130216        West      Gujarat             Surat          2032.0   \n",
       "1     20130129       North        Delhi             Delhi          1709.0   \n",
       "2     20130221        West      Gujarat             Surat           523.0   \n",
       "3     20130222        West  Maharashtra  Pimpri-Chinchwad          5132.0   \n",
       "4     20130301       North        Delhi             Delhi          1008.0   \n",
       "\n",
       "   Buy_Times  Points_Earned  Points_Redeemed  \n",
       "0          2          200.0              0.0  \n",
       "1          1          100.0              0.0  \n",
       "2          1           10.0              0.0  \n",
       "3          1          170.0              0.0  \n",
       "4          1           60.0              0.0  "
      ]
     },
     "execution_count": 2,
     "metadata": {},
     "output_type": "execute_result"
    }
   ],
   "source": [
    "Customers=pd.read_csv('C:\\\\Users\\\\Yash\\\\Desktop\\\\STATS\\\\CASE STUDY FOR PANDAS\\\\10. Additional Practice Exercises\\\\3. Pandas Case Study-1\\\\Customers.csv',encoding= 'unicode_escape')\n",
    "Customers.head()"
   ]
  },
  {
   "cell_type": "raw",
   "metadata": {},
   "source": [
    "2. Understand the data using different functions and attributes like Customers, index, columns, dtypes.ndim, info(), get_dtype_counts etc."
   ]
  },
  {
   "cell_type": "code",
   "execution_count": 3,
   "metadata": {},
   "outputs": [
    {
     "data": {
      "text/plain": [
       "(10000, 14)"
      ]
     },
     "execution_count": 3,
     "metadata": {},
     "output_type": "execute_result"
    }
   ],
   "source": [
    "Customers.shape"
   ]
  },
  {
   "cell_type": "code",
   "execution_count": 4,
   "metadata": {},
   "outputs": [
    {
     "data": {
      "text/plain": [
       "RangeIndex(start=0, stop=10000, step=1)"
      ]
     },
     "execution_count": 4,
     "metadata": {},
     "output_type": "execute_result"
    }
   ],
   "source": [
    "Customers.index"
   ]
  },
  {
   "cell_type": "code",
   "execution_count": 5,
   "metadata": {},
   "outputs": [
    {
     "data": {
      "text/plain": [
       "Index(['Customer_ID', 'Gender', 'First_Date', 'First_region', 'First_state',\n",
       "       'First_city', 'Recent_Date', 'Last_region', 'Last_state', 'Last_city',\n",
       "       'Customer_Value', 'Buy_Times', 'Points_Earned', 'Points_Redeemed'],\n",
       "      dtype='object')"
      ]
     },
     "execution_count": 5,
     "metadata": {},
     "output_type": "execute_result"
    }
   ],
   "source": [
    "Customers.columns"
   ]
  },
  {
   "cell_type": "code",
   "execution_count": 6,
   "metadata": {},
   "outputs": [
    {
     "name": "stdout",
     "output_type": "stream",
     "text": [
      "<class 'pandas.core.frame.DataFrame'>\n",
      "RangeIndex: 10000 entries, 0 to 9999\n",
      "Data columns (total 14 columns):\n",
      " #   Column           Non-Null Count  Dtype  \n",
      "---  ------           --------------  -----  \n",
      " 0   Customer_ID      10000 non-null  int64  \n",
      " 1   Gender           9986 non-null   object \n",
      " 2   First_Date       10000 non-null  int64  \n",
      " 3   First_region     9979 non-null   object \n",
      " 4   First_state      9983 non-null   object \n",
      " 5   First_city       10000 non-null  object \n",
      " 6   Recent_Date      10000 non-null  int64  \n",
      " 7   Last_region      10000 non-null  object \n",
      " 8   Last_state       10000 non-null  object \n",
      " 9   Last_city        10000 non-null  object \n",
      " 10  Customer_Value   9964 non-null   float64\n",
      " 11  Buy_Times        10000 non-null  int64  \n",
      " 12  Points_Earned    9979 non-null   float64\n",
      " 13  Points_Redeemed  9988 non-null   float64\n",
      "dtypes: float64(3), int64(4), object(7)\n",
      "memory usage: 1.1+ MB\n"
     ]
    }
   ],
   "source": [
    "Customers.info()"
   ]
  },
  {
   "cell_type": "code",
   "execution_count": 7,
   "metadata": {},
   "outputs": [
    {
     "data": {
      "text/plain": [
       "Customer_ID        10000\n",
       "Gender              9986\n",
       "First_Date         10000\n",
       "First_region        9979\n",
       "First_state         9983\n",
       "First_city         10000\n",
       "Recent_Date        10000\n",
       "Last_region        10000\n",
       "Last_state         10000\n",
       "Last_city          10000\n",
       "Customer_Value      9964\n",
       "Buy_Times          10000\n",
       "Points_Earned       9979\n",
       "Points_Redeemed     9988\n",
       "dtype: int64"
      ]
     },
     "execution_count": 7,
     "metadata": {},
     "output_type": "execute_result"
    }
   ],
   "source": [
    "Customers.count()"
   ]
  },
  {
   "cell_type": "code",
   "execution_count": 8,
   "metadata": {},
   "outputs": [
    {
     "data": {
      "text/html": [
       "<div>\n",
       "<style scoped>\n",
       "    .dataframe tbody tr th:only-of-type {\n",
       "        vertical-align: middle;\n",
       "    }\n",
       "\n",
       "    .dataframe tbody tr th {\n",
       "        vertical-align: top;\n",
       "    }\n",
       "\n",
       "    .dataframe thead th {\n",
       "        text-align: right;\n",
       "    }\n",
       "</style>\n",
       "<table border=\"1\" class=\"dataframe\">\n",
       "  <thead>\n",
       "    <tr style=\"text-align: right;\">\n",
       "      <th></th>\n",
       "      <th>Customer_ID</th>\n",
       "      <th>First_Date</th>\n",
       "      <th>Recent_Date</th>\n",
       "      <th>Customer_Value</th>\n",
       "      <th>Buy_Times</th>\n",
       "      <th>Points_Earned</th>\n",
       "      <th>Points_Redeemed</th>\n",
       "    </tr>\n",
       "  </thead>\n",
       "  <tbody>\n",
       "    <tr>\n",
       "      <th>count</th>\n",
       "      <td>1.000000e+04</td>\n",
       "      <td>1.000000e+04</td>\n",
       "      <td>1.000000e+04</td>\n",
       "      <td>9.964000e+03</td>\n",
       "      <td>10000.000000</td>\n",
       "      <td>9979.000000</td>\n",
       "      <td>9.988000e+03</td>\n",
       "    </tr>\n",
       "    <tr>\n",
       "      <th>mean</th>\n",
       "      <td>8.347904e+07</td>\n",
       "      <td>2.012199e+07</td>\n",
       "      <td>2.012537e+07</td>\n",
       "      <td>1.254489e+04</td>\n",
       "      <td>5.477600</td>\n",
       "      <td>529.355747</td>\n",
       "      <td>5.822111e+02</td>\n",
       "    </tr>\n",
       "    <tr>\n",
       "      <th>std</th>\n",
       "      <td>4.802529e+07</td>\n",
       "      <td>3.424373e+03</td>\n",
       "      <td>4.744995e+03</td>\n",
       "      <td>6.546771e+04</td>\n",
       "      <td>11.677831</td>\n",
       "      <td>1861.315677</td>\n",
       "      <td>1.521278e+04</td>\n",
       "    </tr>\n",
       "    <tr>\n",
       "      <th>min</th>\n",
       "      <td>5.850000e+02</td>\n",
       "      <td>2.012010e+07</td>\n",
       "      <td>2.012010e+07</td>\n",
       "      <td>0.000000e+00</td>\n",
       "      <td>1.000000</td>\n",
       "      <td>0.000000</td>\n",
       "      <td>0.000000e+00</td>\n",
       "    </tr>\n",
       "    <tr>\n",
       "      <th>25%</th>\n",
       "      <td>3.617353e+07</td>\n",
       "      <td>2.012023e+07</td>\n",
       "      <td>2.012082e+07</td>\n",
       "      <td>1.484500e+03</td>\n",
       "      <td>1.000000</td>\n",
       "      <td>65.000000</td>\n",
       "      <td>0.000000e+00</td>\n",
       "    </tr>\n",
       "    <tr>\n",
       "      <th>50%</th>\n",
       "      <td>1.146933e+08</td>\n",
       "      <td>2.012070e+07</td>\n",
       "      <td>2.012122e+07</td>\n",
       "      <td>3.960001e+03</td>\n",
       "      <td>2.000000</td>\n",
       "      <td>195.000000</td>\n",
       "      <td>0.000000e+00</td>\n",
       "    </tr>\n",
       "    <tr>\n",
       "      <th>75%</th>\n",
       "      <td>1.216234e+08</td>\n",
       "      <td>2.012111e+07</td>\n",
       "      <td>2.013030e+07</td>\n",
       "      <td>1.113600e+04</td>\n",
       "      <td>6.000000</td>\n",
       "      <td>535.000000</td>\n",
       "      <td>0.000000e+00</td>\n",
       "    </tr>\n",
       "    <tr>\n",
       "      <th>max</th>\n",
       "      <td>1.324735e+08</td>\n",
       "      <td>2.013033e+07</td>\n",
       "      <td>2.013033e+07</td>\n",
       "      <td>5.098715e+06</td>\n",
       "      <td>586.000000</td>\n",
       "      <td>142030.000000</td>\n",
       "      <td>1.387520e+06</td>\n",
       "    </tr>\n",
       "  </tbody>\n",
       "</table>\n",
       "</div>"
      ],
      "text/plain": [
       "        Customer_ID    First_Date   Recent_Date  Customer_Value     Buy_Times  \\\n",
       "count  1.000000e+04  1.000000e+04  1.000000e+04    9.964000e+03  10000.000000   \n",
       "mean   8.347904e+07  2.012199e+07  2.012537e+07    1.254489e+04      5.477600   \n",
       "std    4.802529e+07  3.424373e+03  4.744995e+03    6.546771e+04     11.677831   \n",
       "min    5.850000e+02  2.012010e+07  2.012010e+07    0.000000e+00      1.000000   \n",
       "25%    3.617353e+07  2.012023e+07  2.012082e+07    1.484500e+03      1.000000   \n",
       "50%    1.146933e+08  2.012070e+07  2.012122e+07    3.960001e+03      2.000000   \n",
       "75%    1.216234e+08  2.012111e+07  2.013030e+07    1.113600e+04      6.000000   \n",
       "max    1.324735e+08  2.013033e+07  2.013033e+07    5.098715e+06    586.000000   \n",
       "\n",
       "       Points_Earned  Points_Redeemed  \n",
       "count    9979.000000     9.988000e+03  \n",
       "mean      529.355747     5.822111e+02  \n",
       "std      1861.315677     1.521278e+04  \n",
       "min         0.000000     0.000000e+00  \n",
       "25%        65.000000     0.000000e+00  \n",
       "50%       195.000000     0.000000e+00  \n",
       "75%       535.000000     0.000000e+00  \n",
       "max    142030.000000     1.387520e+06  "
      ]
     },
     "execution_count": 8,
     "metadata": {},
     "output_type": "execute_result"
    }
   ],
   "source": [
    "Customers.describe()"
   ]
  },
  {
   "cell_type": "code",
   "execution_count": null,
   "metadata": {},
   "outputs": [],
   "source": []
  },
  {
   "cell_type": "raw",
   "metadata": {},
   "source": [
    "3. What is percentage of missing values for customer Value variable?"
   ]
  },
  {
   "cell_type": "code",
   "execution_count": 9,
   "metadata": {},
   "outputs": [
    {
     "data": {
      "text/plain": [
       "Customer_ID        0.00\n",
       "Gender             0.14\n",
       "First_Date         0.00\n",
       "First_region       0.21\n",
       "First_state        0.17\n",
       "First_city         0.00\n",
       "Recent_Date        0.00\n",
       "Last_region        0.00\n",
       "Last_state         0.00\n",
       "Last_city          0.00\n",
       "Customer_Value     0.36\n",
       "Buy_Times          0.00\n",
       "Points_Earned      0.21\n",
       "Points_Redeemed    0.12\n",
       "dtype: float64"
      ]
     },
     "execution_count": 9,
     "metadata": {},
     "output_type": "execute_result"
    }
   ],
   "source": [
    "Customers.isna().mean().round(4) * 100"
   ]
  },
  {
   "cell_type": "raw",
   "metadata": {},
   "source": [
    "4. Create two subsets with unique and duplicate values"
   ]
  },
  {
   "cell_type": "code",
   "execution_count": 10,
   "metadata": {},
   "outputs": [
    {
     "name": "stdout",
     "output_type": "stream",
     "text": [
      "[]\n",
      "{'Customer_ID': 1, 'Gender': 1, 'First_Date': 1, 'First_region': 1, 'First_state': 1, 'First_city': 1, 'Recent_Date': 1, 'Last_region': 1, 'Last_state': 1, 'Last_city': 1, 'Customer_Value': 1, 'Buy_Times': 1, 'Points_Earned': 1, 'Points_Redeemed': 1}\n"
     ]
    }
   ],
   "source": [
    "\n",
    "dupItems = []\n",
    "uniqItems = {}\n",
    "for x in Customers:\n",
    "   if x not in uniqItems:\n",
    "      uniqItems[x] = 1\n",
    "   else:\n",
    "      if uniqItems[x] == 1:\n",
    "         dupItems.append(x)\n",
    "      uniqItems[x] += 1\n",
    "print(dupItems)\n",
    "print(uniqItems)"
   ]
  },
  {
   "cell_type": "raw",
   "metadata": {},
   "source": [
    "5. Create data set with list of customers whose customer value greater than 10000"
   ]
  },
  {
   "cell_type": "code",
   "execution_count": 11,
   "metadata": {},
   "outputs": [],
   "source": [
    "a= Customers[Customers['Customer_Value']> 10000].reset_index(drop= True)"
   ]
  },
  {
   "cell_type": "code",
   "execution_count": 12,
   "metadata": {},
   "outputs": [
    {
     "data": {
      "text/html": [
       "<div>\n",
       "<style scoped>\n",
       "    .dataframe tbody tr th:only-of-type {\n",
       "        vertical-align: middle;\n",
       "    }\n",
       "\n",
       "    .dataframe tbody tr th {\n",
       "        vertical-align: top;\n",
       "    }\n",
       "\n",
       "    .dataframe thead th {\n",
       "        text-align: right;\n",
       "    }\n",
       "</style>\n",
       "<table border=\"1\" class=\"dataframe\">\n",
       "  <thead>\n",
       "    <tr style=\"text-align: right;\">\n",
       "      <th></th>\n",
       "      <th>Customer_ID</th>\n",
       "      <th>Gender</th>\n",
       "      <th>First_Date</th>\n",
       "      <th>First_region</th>\n",
       "      <th>First_state</th>\n",
       "      <th>First_city</th>\n",
       "      <th>Recent_Date</th>\n",
       "      <th>Last_region</th>\n",
       "      <th>Last_state</th>\n",
       "      <th>Last_city</th>\n",
       "      <th>Customer_Value</th>\n",
       "      <th>Buy_Times</th>\n",
       "      <th>Points_Earned</th>\n",
       "      <th>Points_Redeemed</th>\n",
       "    </tr>\n",
       "  </thead>\n",
       "  <tbody>\n",
       "    <tr>\n",
       "      <th>0</th>\n",
       "      <td>1610085</td>\n",
       "      <td>F</td>\n",
       "      <td>20120103</td>\n",
       "      <td>North</td>\n",
       "      <td>Delhi</td>\n",
       "      <td>Delhi</td>\n",
       "      <td>20121013</td>\n",
       "      <td>North</td>\n",
       "      <td>Delhi</td>\n",
       "      <td>Delhi</td>\n",
       "      <td>10380.199</td>\n",
       "      <td>6</td>\n",
       "      <td>1189.0</td>\n",
       "      <td>0.0</td>\n",
       "    </tr>\n",
       "    <tr>\n",
       "      <th>1</th>\n",
       "      <td>7518872</td>\n",
       "      <td>M</td>\n",
       "      <td>20120104</td>\n",
       "      <td>North</td>\n",
       "      <td>Uttar Pradesh</td>\n",
       "      <td>Kanpur</td>\n",
       "      <td>20130123</td>\n",
       "      <td>North</td>\n",
       "      <td>Uttar Pradesh</td>\n",
       "      <td>Kanpur</td>\n",
       "      <td>14587.000</td>\n",
       "      <td>6</td>\n",
       "      <td>865.0</td>\n",
       "      <td>0.0</td>\n",
       "    </tr>\n",
       "    <tr>\n",
       "      <th>2</th>\n",
       "      <td>63508964</td>\n",
       "      <td>M</td>\n",
       "      <td>20120106</td>\n",
       "      <td>West</td>\n",
       "      <td>Maharashtra</td>\n",
       "      <td>Pimpri-Chinchwad</td>\n",
       "      <td>20130222</td>\n",
       "      <td>West</td>\n",
       "      <td>Maharashtra</td>\n",
       "      <td>Pimpri-Chinchwad</td>\n",
       "      <td>145472.702</td>\n",
       "      <td>36</td>\n",
       "      <td>680.0</td>\n",
       "      <td>16635.0</td>\n",
       "    </tr>\n",
       "    <tr>\n",
       "      <th>3</th>\n",
       "      <td>23667984</td>\n",
       "      <td>F</td>\n",
       "      <td>20120107</td>\n",
       "      <td>West</td>\n",
       "      <td>Maharashtra</td>\n",
       "      <td>Nagpur</td>\n",
       "      <td>20130313</td>\n",
       "      <td>West</td>\n",
       "      <td>Maharashtra</td>\n",
       "      <td>Nagpur</td>\n",
       "      <td>19640.700</td>\n",
       "      <td>12</td>\n",
       "      <td>268.0</td>\n",
       "      <td>2549.0</td>\n",
       "    </tr>\n",
       "    <tr>\n",
       "      <th>4</th>\n",
       "      <td>84634600</td>\n",
       "      <td>M</td>\n",
       "      <td>20120108</td>\n",
       "      <td>South</td>\n",
       "      <td>Karnataka</td>\n",
       "      <td>Bangalore</td>\n",
       "      <td>20130307</td>\n",
       "      <td>South</td>\n",
       "      <td>Karnataka</td>\n",
       "      <td>Bangalore</td>\n",
       "      <td>32377.602</td>\n",
       "      <td>22</td>\n",
       "      <td>1029.0</td>\n",
       "      <td>1771.0</td>\n",
       "    </tr>\n",
       "  </tbody>\n",
       "</table>\n",
       "</div>"
      ],
      "text/plain": [
       "   Customer_ID Gender  First_Date First_region    First_state  \\\n",
       "0      1610085      F    20120103        North          Delhi   \n",
       "1      7518872      M    20120104        North  Uttar Pradesh   \n",
       "2     63508964      M    20120106         West    Maharashtra   \n",
       "3     23667984      F    20120107         West    Maharashtra   \n",
       "4     84634600      M    20120108        South      Karnataka   \n",
       "\n",
       "         First_city  Recent_Date Last_region     Last_state         Last_city  \\\n",
       "0             Delhi     20121013       North          Delhi             Delhi   \n",
       "1            Kanpur     20130123       North  Uttar Pradesh            Kanpur   \n",
       "2  Pimpri-Chinchwad     20130222        West    Maharashtra  Pimpri-Chinchwad   \n",
       "3            Nagpur     20130313        West    Maharashtra            Nagpur   \n",
       "4         Bangalore     20130307       South      Karnataka         Bangalore   \n",
       "\n",
       "   Customer_Value  Buy_Times  Points_Earned  Points_Redeemed  \n",
       "0       10380.199          6         1189.0              0.0  \n",
       "1       14587.000          6          865.0              0.0  \n",
       "2      145472.702         36          680.0          16635.0  \n",
       "3       19640.700         12          268.0           2549.0  \n",
       "4       32377.602         22         1029.0           1771.0  "
      ]
     },
     "execution_count": 12,
     "metadata": {},
     "output_type": "execute_result"
    }
   ],
   "source": [
    "a.head()"
   ]
  },
  {
   "cell_type": "raw",
   "metadata": {},
   "source": [
    "6. In customer table, create a new variable called “customer value segment” using customer value as follows. -\n",
    "- High Value Segment - > 25000\n",
    "- Medium Value Segment – Between 10000 and 25000\n",
    "- Low Value Segment – less than or equal to 10000"
   ]
  },
  {
   "cell_type": "code",
   "execution_count": 13,
   "metadata": {},
   "outputs": [],
   "source": [
    "Customer_value_segment= Customers.Customer_Value\n",
    "\n",
    "Customers['Customer_value_segment']= IF(Customer_value_segment > 25000, 'High Value Segment', \n",
    "                                        IF((Customer_value_segment > 10000) & (Customer_value_segment < 25000),'Medium Value Segment','Low Value Segment'))"
   ]
  },
  {
   "cell_type": "code",
   "execution_count": 14,
   "metadata": {},
   "outputs": [
    {
     "data": {
      "text/html": [
       "<div>\n",
       "<style scoped>\n",
       "    .dataframe tbody tr th:only-of-type {\n",
       "        vertical-align: middle;\n",
       "    }\n",
       "\n",
       "    .dataframe tbody tr th {\n",
       "        vertical-align: top;\n",
       "    }\n",
       "\n",
       "    .dataframe thead th {\n",
       "        text-align: right;\n",
       "    }\n",
       "</style>\n",
       "<table border=\"1\" class=\"dataframe\">\n",
       "  <thead>\n",
       "    <tr style=\"text-align: right;\">\n",
       "      <th></th>\n",
       "      <th>Customer_ID</th>\n",
       "      <th>Gender</th>\n",
       "      <th>First_Date</th>\n",
       "      <th>First_region</th>\n",
       "      <th>First_state</th>\n",
       "      <th>First_city</th>\n",
       "      <th>Recent_Date</th>\n",
       "      <th>Last_region</th>\n",
       "      <th>Last_state</th>\n",
       "      <th>Last_city</th>\n",
       "      <th>Customer_Value</th>\n",
       "      <th>Buy_Times</th>\n",
       "      <th>Points_Earned</th>\n",
       "      <th>Points_Redeemed</th>\n",
       "      <th>Customer_value_segment</th>\n",
       "    </tr>\n",
       "  </thead>\n",
       "  <tbody>\n",
       "    <tr>\n",
       "      <th>0</th>\n",
       "      <td>129609144</td>\n",
       "      <td>M</td>\n",
       "      <td>20130130</td>\n",
       "      <td>West</td>\n",
       "      <td>Gujarat</td>\n",
       "      <td>Surat</td>\n",
       "      <td>20130216</td>\n",
       "      <td>West</td>\n",
       "      <td>Gujarat</td>\n",
       "      <td>Surat</td>\n",
       "      <td>2032.0</td>\n",
       "      <td>2</td>\n",
       "      <td>200.0</td>\n",
       "      <td>0.0</td>\n",
       "      <td>Low Value Segment</td>\n",
       "    </tr>\n",
       "    <tr>\n",
       "      <th>1</th>\n",
       "      <td>129627580</td>\n",
       "      <td>M</td>\n",
       "      <td>20130129</td>\n",
       "      <td>North</td>\n",
       "      <td>Delhi</td>\n",
       "      <td>Delhi</td>\n",
       "      <td>20130129</td>\n",
       "      <td>North</td>\n",
       "      <td>Delhi</td>\n",
       "      <td>Delhi</td>\n",
       "      <td>1709.0</td>\n",
       "      <td>1</td>\n",
       "      <td>100.0</td>\n",
       "      <td>0.0</td>\n",
       "      <td>Low Value Segment</td>\n",
       "    </tr>\n",
       "    <tr>\n",
       "      <th>2</th>\n",
       "      <td>130363481</td>\n",
       "      <td>M</td>\n",
       "      <td>20130221</td>\n",
       "      <td>West</td>\n",
       "      <td>Gujarat</td>\n",
       "      <td>Surat</td>\n",
       "      <td>20130221</td>\n",
       "      <td>West</td>\n",
       "      <td>Gujarat</td>\n",
       "      <td>Surat</td>\n",
       "      <td>523.0</td>\n",
       "      <td>1</td>\n",
       "      <td>10.0</td>\n",
       "      <td>0.0</td>\n",
       "      <td>Low Value Segment</td>\n",
       "    </tr>\n",
       "    <tr>\n",
       "      <th>3</th>\n",
       "      <td>49817480</td>\n",
       "      <td>M</td>\n",
       "      <td>20130222</td>\n",
       "      <td>West</td>\n",
       "      <td>Maharashtra</td>\n",
       "      <td>Pimpri-Chinchwad</td>\n",
       "      <td>20130222</td>\n",
       "      <td>West</td>\n",
       "      <td>Maharashtra</td>\n",
       "      <td>Pimpri-Chinchwad</td>\n",
       "      <td>5132.0</td>\n",
       "      <td>1</td>\n",
       "      <td>170.0</td>\n",
       "      <td>0.0</td>\n",
       "      <td>Low Value Segment</td>\n",
       "    </tr>\n",
       "    <tr>\n",
       "      <th>4</th>\n",
       "      <td>126343829</td>\n",
       "      <td>F</td>\n",
       "      <td>20130301</td>\n",
       "      <td>North</td>\n",
       "      <td>Delhi</td>\n",
       "      <td>Delhi</td>\n",
       "      <td>20130301</td>\n",
       "      <td>North</td>\n",
       "      <td>Delhi</td>\n",
       "      <td>Delhi</td>\n",
       "      <td>1008.0</td>\n",
       "      <td>1</td>\n",
       "      <td>60.0</td>\n",
       "      <td>0.0</td>\n",
       "      <td>Low Value Segment</td>\n",
       "    </tr>\n",
       "  </tbody>\n",
       "</table>\n",
       "</div>"
      ],
      "text/plain": [
       "   Customer_ID Gender  First_Date First_region  First_state        First_city  \\\n",
       "0    129609144      M    20130130         West      Gujarat             Surat   \n",
       "1    129627580      M    20130129        North        Delhi             Delhi   \n",
       "2    130363481      M    20130221         West      Gujarat             Surat   \n",
       "3     49817480      M    20130222         West  Maharashtra  Pimpri-Chinchwad   \n",
       "4    126343829      F    20130301        North        Delhi             Delhi   \n",
       "\n",
       "   Recent_Date Last_region   Last_state         Last_city  Customer_Value  \\\n",
       "0     20130216        West      Gujarat             Surat          2032.0   \n",
       "1     20130129       North        Delhi             Delhi          1709.0   \n",
       "2     20130221        West      Gujarat             Surat           523.0   \n",
       "3     20130222        West  Maharashtra  Pimpri-Chinchwad          5132.0   \n",
       "4     20130301       North        Delhi             Delhi          1008.0   \n",
       "\n",
       "   Buy_Times  Points_Earned  Points_Redeemed Customer_value_segment  \n",
       "0          2          200.0              0.0      Low Value Segment  \n",
       "1          1          100.0              0.0      Low Value Segment  \n",
       "2          1           10.0              0.0      Low Value Segment  \n",
       "3          1          170.0              0.0      Low Value Segment  \n",
       "4          1           60.0              0.0      Low Value Segment  "
      ]
     },
     "execution_count": 14,
     "metadata": {},
     "output_type": "execute_result"
    }
   ],
   "source": [
    "Customers.head()"
   ]
  },
  {
   "cell_type": "code",
   "execution_count": null,
   "metadata": {},
   "outputs": [],
   "source": []
  },
  {
   "cell_type": "raw",
   "metadata": {},
   "source": [
    "7. Create variables “average revenue per trip” and “balance points” in the customer data set"
   ]
  },
  {
   "cell_type": "code",
   "execution_count": 15,
   "metadata": {},
   "outputs": [],
   "source": [
    "Customers = Customers.assign(average_revenue= Customers.Customer_Value/Customers.Buy_Times,Balance_Points=Customers.Points_Earned - Customers.Points_Redeemed )"
   ]
  },
  {
   "cell_type": "code",
   "execution_count": 16,
   "metadata": {},
   "outputs": [
    {
     "data": {
      "text/html": [
       "<div>\n",
       "<style scoped>\n",
       "    .dataframe tbody tr th:only-of-type {\n",
       "        vertical-align: middle;\n",
       "    }\n",
       "\n",
       "    .dataframe tbody tr th {\n",
       "        vertical-align: top;\n",
       "    }\n",
       "\n",
       "    .dataframe thead th {\n",
       "        text-align: right;\n",
       "    }\n",
       "</style>\n",
       "<table border=\"1\" class=\"dataframe\">\n",
       "  <thead>\n",
       "    <tr style=\"text-align: right;\">\n",
       "      <th></th>\n",
       "      <th>Customer_ID</th>\n",
       "      <th>Gender</th>\n",
       "      <th>First_Date</th>\n",
       "      <th>First_region</th>\n",
       "      <th>First_state</th>\n",
       "      <th>First_city</th>\n",
       "      <th>Recent_Date</th>\n",
       "      <th>Last_region</th>\n",
       "      <th>Last_state</th>\n",
       "      <th>Last_city</th>\n",
       "      <th>Customer_Value</th>\n",
       "      <th>Buy_Times</th>\n",
       "      <th>Points_Earned</th>\n",
       "      <th>Points_Redeemed</th>\n",
       "      <th>Customer_value_segment</th>\n",
       "      <th>average_revenue</th>\n",
       "      <th>Balance_Points</th>\n",
       "    </tr>\n",
       "  </thead>\n",
       "  <tbody>\n",
       "    <tr>\n",
       "      <th>0</th>\n",
       "      <td>129609144</td>\n",
       "      <td>M</td>\n",
       "      <td>20130130</td>\n",
       "      <td>West</td>\n",
       "      <td>Gujarat</td>\n",
       "      <td>Surat</td>\n",
       "      <td>20130216</td>\n",
       "      <td>West</td>\n",
       "      <td>Gujarat</td>\n",
       "      <td>Surat</td>\n",
       "      <td>2032.0</td>\n",
       "      <td>2</td>\n",
       "      <td>200.0</td>\n",
       "      <td>0.0</td>\n",
       "      <td>Low Value Segment</td>\n",
       "      <td>1016.0</td>\n",
       "      <td>200.0</td>\n",
       "    </tr>\n",
       "    <tr>\n",
       "      <th>1</th>\n",
       "      <td>129627580</td>\n",
       "      <td>M</td>\n",
       "      <td>20130129</td>\n",
       "      <td>North</td>\n",
       "      <td>Delhi</td>\n",
       "      <td>Delhi</td>\n",
       "      <td>20130129</td>\n",
       "      <td>North</td>\n",
       "      <td>Delhi</td>\n",
       "      <td>Delhi</td>\n",
       "      <td>1709.0</td>\n",
       "      <td>1</td>\n",
       "      <td>100.0</td>\n",
       "      <td>0.0</td>\n",
       "      <td>Low Value Segment</td>\n",
       "      <td>1709.0</td>\n",
       "      <td>100.0</td>\n",
       "    </tr>\n",
       "    <tr>\n",
       "      <th>2</th>\n",
       "      <td>130363481</td>\n",
       "      <td>M</td>\n",
       "      <td>20130221</td>\n",
       "      <td>West</td>\n",
       "      <td>Gujarat</td>\n",
       "      <td>Surat</td>\n",
       "      <td>20130221</td>\n",
       "      <td>West</td>\n",
       "      <td>Gujarat</td>\n",
       "      <td>Surat</td>\n",
       "      <td>523.0</td>\n",
       "      <td>1</td>\n",
       "      <td>10.0</td>\n",
       "      <td>0.0</td>\n",
       "      <td>Low Value Segment</td>\n",
       "      <td>523.0</td>\n",
       "      <td>10.0</td>\n",
       "    </tr>\n",
       "    <tr>\n",
       "      <th>3</th>\n",
       "      <td>49817480</td>\n",
       "      <td>M</td>\n",
       "      <td>20130222</td>\n",
       "      <td>West</td>\n",
       "      <td>Maharashtra</td>\n",
       "      <td>Pimpri-Chinchwad</td>\n",
       "      <td>20130222</td>\n",
       "      <td>West</td>\n",
       "      <td>Maharashtra</td>\n",
       "      <td>Pimpri-Chinchwad</td>\n",
       "      <td>5132.0</td>\n",
       "      <td>1</td>\n",
       "      <td>170.0</td>\n",
       "      <td>0.0</td>\n",
       "      <td>Low Value Segment</td>\n",
       "      <td>5132.0</td>\n",
       "      <td>170.0</td>\n",
       "    </tr>\n",
       "    <tr>\n",
       "      <th>4</th>\n",
       "      <td>126343829</td>\n",
       "      <td>F</td>\n",
       "      <td>20130301</td>\n",
       "      <td>North</td>\n",
       "      <td>Delhi</td>\n",
       "      <td>Delhi</td>\n",
       "      <td>20130301</td>\n",
       "      <td>North</td>\n",
       "      <td>Delhi</td>\n",
       "      <td>Delhi</td>\n",
       "      <td>1008.0</td>\n",
       "      <td>1</td>\n",
       "      <td>60.0</td>\n",
       "      <td>0.0</td>\n",
       "      <td>Low Value Segment</td>\n",
       "      <td>1008.0</td>\n",
       "      <td>60.0</td>\n",
       "    </tr>\n",
       "  </tbody>\n",
       "</table>\n",
       "</div>"
      ],
      "text/plain": [
       "   Customer_ID Gender  First_Date First_region  First_state        First_city  \\\n",
       "0    129609144      M    20130130         West      Gujarat             Surat   \n",
       "1    129627580      M    20130129        North        Delhi             Delhi   \n",
       "2    130363481      M    20130221         West      Gujarat             Surat   \n",
       "3     49817480      M    20130222         West  Maharashtra  Pimpri-Chinchwad   \n",
       "4    126343829      F    20130301        North        Delhi             Delhi   \n",
       "\n",
       "   Recent_Date Last_region   Last_state         Last_city  Customer_Value  \\\n",
       "0     20130216        West      Gujarat             Surat          2032.0   \n",
       "1     20130129       North        Delhi             Delhi          1709.0   \n",
       "2     20130221        West      Gujarat             Surat           523.0   \n",
       "3     20130222        West  Maharashtra  Pimpri-Chinchwad          5132.0   \n",
       "4     20130301       North        Delhi             Delhi          1008.0   \n",
       "\n",
       "   Buy_Times  Points_Earned  Points_Redeemed Customer_value_segment  \\\n",
       "0          2          200.0              0.0      Low Value Segment   \n",
       "1          1          100.0              0.0      Low Value Segment   \n",
       "2          1           10.0              0.0      Low Value Segment   \n",
       "3          1          170.0              0.0      Low Value Segment   \n",
       "4          1           60.0              0.0      Low Value Segment   \n",
       "\n",
       "   average_revenue  Balance_Points  \n",
       "0           1016.0           200.0  \n",
       "1           1709.0           100.0  \n",
       "2            523.0            10.0  \n",
       "3           5132.0           170.0  \n",
       "4           1008.0            60.0  "
      ]
     },
     "execution_count": 16,
     "metadata": {},
     "output_type": "execute_result"
    }
   ],
   "source": [
    "Customers.head()"
   ]
  },
  {
   "cell_type": "raw",
   "metadata": {},
   "source": [
    "8. How many days between last purchase date and today?"
   ]
  },
  {
   "cell_type": "code",
   "execution_count": 17,
   "metadata": {},
   "outputs": [],
   "source": [
    "Presnet_day = pd.to_datetime(dt.datetime.now().date())\n",
    "purchase_date = Presnet_day - pd.to_datetime(Customers.Recent_Date,format= '%Y%m%d')"
   ]
  },
  {
   "cell_type": "code",
   "execution_count": 18,
   "metadata": {},
   "outputs": [
    {
     "data": {
      "text/plain": [
       "0   2705 days\n",
       "1   2723 days\n",
       "2   2700 days\n",
       "3   2699 days\n",
       "4   2692 days\n",
       "Name: Recent_Date, dtype: timedelta64[ns]"
      ]
     },
     "execution_count": 18,
     "metadata": {},
     "output_type": "execute_result"
    }
   ],
   "source": [
    "purchase_date.head()"
   ]
  },
  {
   "cell_type": "raw",
   "metadata": {},
   "source": [
    "9. Calculate percentage of sales by each last city, state and region"
   ]
  },
  {
   "cell_type": "code",
   "execution_count": 19,
   "metadata": {},
   "outputs": [
    {
     "data": {
      "text/html": [
       "<div>\n",
       "<style scoped>\n",
       "    .dataframe tbody tr th:only-of-type {\n",
       "        vertical-align: middle;\n",
       "    }\n",
       "\n",
       "    .dataframe tbody tr th {\n",
       "        vertical-align: top;\n",
       "    }\n",
       "\n",
       "    .dataframe thead th {\n",
       "        text-align: right;\n",
       "    }\n",
       "</style>\n",
       "<table border=\"1\" class=\"dataframe\">\n",
       "  <thead>\n",
       "    <tr style=\"text-align: right;\">\n",
       "      <th></th>\n",
       "      <th>Last_city</th>\n",
       "      <th>Last_state</th>\n",
       "      <th>Last_region</th>\n",
       "      <th>Customer_Value</th>\n",
       "    </tr>\n",
       "  </thead>\n",
       "  <tbody>\n",
       "    <tr>\n",
       "      <th>0</th>\n",
       "      <td>Surat</td>\n",
       "      <td>Gujarat</td>\n",
       "      <td>West</td>\n",
       "      <td>2032.0</td>\n",
       "    </tr>\n",
       "    <tr>\n",
       "      <th>1</th>\n",
       "      <td>Delhi</td>\n",
       "      <td>Delhi</td>\n",
       "      <td>North</td>\n",
       "      <td>1709.0</td>\n",
       "    </tr>\n",
       "    <tr>\n",
       "      <th>2</th>\n",
       "      <td>Surat</td>\n",
       "      <td>Gujarat</td>\n",
       "      <td>West</td>\n",
       "      <td>523.0</td>\n",
       "    </tr>\n",
       "    <tr>\n",
       "      <th>3</th>\n",
       "      <td>Pimpri-Chinchwad</td>\n",
       "      <td>Maharashtra</td>\n",
       "      <td>West</td>\n",
       "      <td>5132.0</td>\n",
       "    </tr>\n",
       "    <tr>\n",
       "      <th>4</th>\n",
       "      <td>Delhi</td>\n",
       "      <td>Delhi</td>\n",
       "      <td>North</td>\n",
       "      <td>1008.0</td>\n",
       "    </tr>\n",
       "  </tbody>\n",
       "</table>\n",
       "</div>"
      ],
      "text/plain": [
       "          Last_city   Last_state Last_region  Customer_Value\n",
       "0             Surat      Gujarat        West          2032.0\n",
       "1             Delhi        Delhi       North          1709.0\n",
       "2             Surat      Gujarat        West           523.0\n",
       "3  Pimpri-Chinchwad  Maharashtra        West          5132.0\n",
       "4             Delhi        Delhi       North          1008.0"
      ]
     },
     "execution_count": 19,
     "metadata": {},
     "output_type": "execute_result"
    }
   ],
   "source": [
    "percentage= Customers[[ 'Last_city','Last_state','Last_region','Customer_Value']]\n",
    "percentage.head()"
   ]
  },
  {
   "cell_type": "code",
   "execution_count": 20,
   "metadata": {},
   "outputs": [
    {
     "data": {
      "text/plain": [
       "Last_region  Last_state   Last_city       \n",
       "East         Assam        Guwahati            0.015573\n",
       "             Bihar        Begusarai           0.000206\n",
       "                          Bhagalpur           0.000022\n",
       "                          Katihar             0.000469\n",
       "                          Patna               0.001851\n",
       "                                                ...   \n",
       "West         Maharashtra  Navi Mumbai         0.000106\n",
       "                          Pimpri-Chinchwad    0.033146\n",
       "                          Thane               0.002372\n",
       "                          Ulhasnagar          0.000057\n",
       "                          Vasai-Virar         0.000860\n",
       "Name: Customer_Value, Length: 116, dtype: float64"
      ]
     },
     "execution_count": 20,
     "metadata": {},
     "output_type": "execute_result"
    }
   ],
   "source": [
    "percentage.groupby(['Last_region', 'Last_state', 'Last_city'])['Customer_Value'].sum()/percentage.Customer_Value.sum()"
   ]
  },
  {
   "cell_type": "raw",
   "metadata": {},
   "source": [
    "10. What is the count of customers, average number of purchases and average purchase transaction value by last state and city."
   ]
  },
  {
   "cell_type": "code",
   "execution_count": 21,
   "metadata": {},
   "outputs": [
    {
     "data": {
      "text/plain": [
       "Last_state      Last_city      \n",
       "Andhra Pradesh  Guntur               1\n",
       "                Kurnool              1\n",
       "                Tirupati             2\n",
       "                Vijayawada          20\n",
       "                Visakhapatnam      117\n",
       "                                  ... \n",
       "West Bengal     Kolkata            543\n",
       "                North Dumdum         3\n",
       "                Panihati             1\n",
       "                Rajpur Sonarpur      2\n",
       "                Siliguri             1\n",
       "Name: Customer_ID, Length: 116, dtype: int64"
      ]
     },
     "execution_count": 21,
     "metadata": {},
     "output_type": "execute_result"
    }
   ],
   "source": [
    "Customers.groupby(['Last_state', 'Last_city'])['Customer_ID'].count()"
   ]
  },
  {
   "cell_type": "code",
   "execution_count": 22,
   "metadata": {},
   "outputs": [
    {
     "data": {
      "text/plain": [
       "Last_state      Last_city      \n",
       "Andhra Pradesh  Guntur               1\n",
       "                Kurnool              1\n",
       "                Tirupati             2\n",
       "                Vijayawada          20\n",
       "                Visakhapatnam      117\n",
       "                                  ... \n",
       "West Bengal     Kolkata            543\n",
       "                North Dumdum         3\n",
       "                Panihati             1\n",
       "                Rajpur Sonarpur      2\n",
       "                Siliguri             1\n",
       "Name: Buy_Times, Length: 116, dtype: int64"
      ]
     },
     "execution_count": 22,
     "metadata": {},
     "output_type": "execute_result"
    }
   ],
   "source": [
    "Customers.groupby(['Last_state', 'Last_city'])['Buy_Times'].count()\n"
   ]
  },
  {
   "cell_type": "code",
   "execution_count": 23,
   "metadata": {
    "scrolled": true
   },
   "outputs": [
    {
     "data": {
      "text/plain": [
       "Last_state      Last_city      \n",
       "Andhra Pradesh  Guntur                0.000000\n",
       "                Kurnool             778.374750\n",
       "                Tirupati           1828.333333\n",
       "                Vijayawada         1981.191171\n",
       "                Visakhapatnam      2383.914601\n",
       "                                      ...     \n",
       "West Bengal     Kolkata            2107.631101\n",
       "                North Dumdum       3307.377778\n",
       "                Panihati            989.000429\n",
       "                Rajpur Sonarpur     541.500000\n",
       "                Siliguri           2594.750000\n",
       "Name: average_revenue, Length: 116, dtype: float64"
      ]
     },
     "execution_count": 23,
     "metadata": {},
     "output_type": "execute_result"
    }
   ],
   "source": [
    "Customers.groupby(['Last_state', 'Last_city'])['average_revenue'].mean()"
   ]
  },
  {
   "cell_type": "code",
   "execution_count": null,
   "metadata": {},
   "outputs": [],
   "source": []
  },
  {
   "cell_type": "code",
   "execution_count": null,
   "metadata": {},
   "outputs": [],
   "source": []
  },
  {
   "cell_type": "code",
   "execution_count": null,
   "metadata": {},
   "outputs": [],
   "source": []
  }
 ],
 "metadata": {
  "kernelspec": {
   "display_name": "Python 3",
   "language": "python",
   "name": "python3"
  },
  "language_info": {
   "codemirror_mode": {
    "name": "ipython",
    "version": 3
   },
   "file_extension": ".py",
   "mimetype": "text/x-python",
   "name": "python",
   "nbconvert_exporter": "python",
   "pygments_lexer": "ipython3",
   "version": "3.7.6"
  }
 },
 "nbformat": 4,
 "nbformat_minor": 4
}
